{
 "cells": [
  {
   "cell_type": "code",
   "execution_count": 1,
   "metadata": {},
   "outputs": [
    {
     "name": "stdout",
     "output_type": "stream",
     "text": [
      "[[1.         1.16666667 0.        ]\n",
      " [0.         1.16666667 0.        ]\n",
      " [0.         0.00358974 1.        ]]\n"
     ]
    }
   ],
   "source": [
    "import cv2\n",
    "import numpy as np\n",
    "img = cv2.imread('tile_texture5.jpg')\n",
    "img2 = cv2.imread('tile_texture2.jpg')\n",
    "\n",
    "img = cv2.resize(img,None,fx=0.5, fy=0.5, interpolation = cv2.INTER_LINEAR)\n",
    "\n",
    "background = cv2.absdiff(img, img)\n",
    "\n",
    "rows, cols = img.shape[:2]\n",
    "\n",
    "high = 0.35\n",
    "width = 0.15\n",
    "\n",
    "start_point = np.float32([[0, 0], [0, cols], [rows, 0], [rows, cols]])\n",
    "end_point = np.float32([[0, 0], [rows*(0.5-width), cols*high], [rows, 0], [rows*(0.5+width), cols*high]])\n",
    "\n",
    "sp2 = np.float32([[0, 0], [cols, 0], [0, rows], [cols, rows]])\n",
    "ep2 = np.float32([[0, 0], [cols*high, rows*(0.5-width)], [0, rows], [cols*high, rows*(0.5+width)]])\n",
    "\n",
    "sp3 = np.float32([[0, cols-0], [0, cols-cols], [rows, cols-0], [rows, cols-cols]])\n",
    "ep3 = np.float32([[0, cols-0], [rows*(0.5-width), cols-cols*high], [rows, cols-0], [rows*(0.5+width), cols-cols*high]])\n",
    "\n",
    "sp4 = np.float32([[cols-0, 0], [cols-cols, 0], [cols-0, rows], [cols-cols, rows]])\n",
    "ep4 = np.float32([[cols-0, 0], [cols-cols*high, rows*(0.5-width)], [cols-0, rows], [cols-cols*high, rows*(0.5+width)]])\n",
    "#transform_matrix = cv2.getPerspectiveTransform(start_point, end_point)\n",
    "transform_matrix = cv2.getPerspectiveTransform(start_point, end_point)\n",
    "\n",
    "sp5 = np.float32([[0, 0], [0, cols], [rows, 0], [rows, cols]])\n",
    "ep5 = np.float32([[rows*0.35, cols*0.35], [rows*0.35, cols*0.65], [rows*0.65, cols*0.35], [rows*0.65, cols*0.65]])\n",
    "\n",
    "tm2 = cv2.getPerspectiveTransform(sp2, ep2)\n",
    "tm3 = cv2.getPerspectiveTransform(sp3, ep3)\n",
    "tm4 = cv2.getPerspectiveTransform(sp4, ep4)\n",
    "tm5 = cv2.getPerspectiveTransform(sp5, ep5)\n",
    "\n",
    "\"\"\"\n",
    "print(src_points)\n",
    "print(dst_points)\n",
    "print(start_point)\n",
    "print(end_point)\n",
    "\"\"\"\n",
    "print(transform_matrix)\n",
    "\n",
    "#img_output = cv2.warpPerspective(img, projective_matrix, (cols,rows))\n",
    "o1 = cv2.warpPerspective(img, transform_matrix, (cols, rows))\n",
    "o2 = cv2.warpPerspective(img, tm2, (cols, rows))\n",
    "o3 = cv2.warpPerspective(img, tm3, (cols, rows))\n",
    "o4 = cv2.warpPerspective(img, tm4, (cols, rows))\n",
    "o5 = cv2.warpPerspective(img, tm5, (cols, rows))\n",
    "\n",
    "o1 = cv2.add(o1, o2)\n",
    "o3 = cv2.add(o3, o4)\n",
    "background = cv2.add(o1, o3)\n",
    "background = cv2.add(background, o5)\n",
    "\n",
    "cv2.imshow('Result', background)\n",
    "#cv2.imshow('Output', o5)\n",
    "cv2.waitKey()\n",
    "cv2.destroyAllWindows()"
   ]
  },
  {
   "cell_type": "code",
   "execution_count": null,
   "metadata": {},
   "outputs": [],
   "source": []
  },
  {
   "cell_type": "code",
   "execution_count": null,
   "metadata": {},
   "outputs": [],
   "source": []
  }
 ],
 "metadata": {
  "kernelspec": {
   "display_name": "Python 3",
   "language": "python",
   "name": "python3"
  },
  "language_info": {
   "codemirror_mode": {
    "name": "ipython",
    "version": 3
   },
   "file_extension": ".py",
   "mimetype": "text/x-python",
   "name": "python",
   "nbconvert_exporter": "python",
   "pygments_lexer": "ipython3",
   "version": "3.7.3"
  }
 },
 "nbformat": 4,
 "nbformat_minor": 2
}
