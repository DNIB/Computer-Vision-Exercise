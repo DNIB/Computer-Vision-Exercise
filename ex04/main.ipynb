{
 "cells": [
  {
   "cell_type": "code",
   "execution_count": 68,
   "metadata": {},
   "outputs": [],
   "source": [
    "import cv2\n",
    "import time\n",
    "import numpy as np\n",
    "\n",
    "cap = cv2.VideoCapture(\"WiiPlay.mp4\")\n",
    "if not cap.isOpened():\n",
    "    raise IOError(\"Error: Webcam\")\n",
    "    \n",
    "time_length = 1481.\n",
    "fps = 30\n",
    "frame_seq = 97*30\n",
    "end_frame = 130*30\n",
    "out_size = (640, 360)\n",
    "\n",
    "rgu = 120\n",
    "rgd = 110\n",
    "rbu = 230\n",
    "rbd = 220\n",
    "\n",
    "up = 210\n",
    "down = 100\n",
    "u_color = np.array([240, 240])\n",
    "d_color = np.array([0])\n",
    "\n",
    "fourcc = cv2.VideoWriter_fourcc(*'mp4v')\n",
    "\n",
    "out = cv2.VideoWriter('output.mp4', fourcc, 30.0, out_size)\n",
    "\n",
    "cap.set(cv2.CAP_PROP_POS_FRAMES, frame_seq)\n",
    "\n",
    "while True:\n",
    "    ret, frame = cap.read()\n",
    "    \n",
    "    frame = cv2.cvtColor(frame, cv2.COLOR_BGR2GRAY)\n",
    "    \n",
    "    #retval, frame = cv2.threshold(frame, up, 255, cv2.THRESH_BINARY)\n",
    "    #retval, frame = cv2.threshold(frame, down, 255, cv2.THRESH_BINARY_INV)\n",
    "    frame = cv2.inRange(frame, 230, 255)\n",
    "    \n",
    "    if ret == False:\n",
    "        break\n",
    "    cur_frame = cv2.resize(frame, out_size, 0, 0, interpolation=cv2.INTER_AREA)\n",
    "    cv2.imshow(\"Input\", cur_frame)\n",
    "    \n",
    "    out.write(cur_frame)\n",
    "    c = cv2.waitKey(1)\n",
    "    if c == 27 or cap.get(1) >= end_frame:\n",
    "        break\n",
    "\n",
    "cap.release()\n",
    "out.release()\n",
    "cv2.destroyAllWindows()"
   ]
  },
  {
   "cell_type": "code",
   "execution_count": null,
   "metadata": {},
   "outputs": [],
   "source": []
  },
  {
   "cell_type": "code",
   "execution_count": null,
   "metadata": {},
   "outputs": [],
   "source": []
  }
 ],
 "metadata": {
  "kernelspec": {
   "display_name": "Python 3",
   "language": "python",
   "name": "python3"
  },
  "language_info": {
   "codemirror_mode": {
    "name": "ipython",
    "version": 3
   },
   "file_extension": ".py",
   "mimetype": "text/x-python",
   "name": "python",
   "nbconvert_exporter": "python",
   "pygments_lexer": "ipython3",
   "version": "3.7.3"
  }
 },
 "nbformat": 4,
 "nbformat_minor": 2
}
