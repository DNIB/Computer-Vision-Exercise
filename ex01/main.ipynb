{
 "cells": [
  {
   "cell_type": "code",
   "execution_count": null,
   "metadata": {},
   "outputs": [],
   "source": [
    "#display an image\n",
    "\n",
    "import cv2\n",
    "import numpy\n",
    "\n",
    "s_img = cv2.imread('sakura.jpg')\n",
    "print(str(type(s_img)))\n",
    "height, width = s_img.shape[:2]\n",
    "cv2.putText(s_img, \"410521311\", (int(height/10), int(width/5)), cv2.FONT_HERSHEY_SIMPLEX, 0.4, (0, 0, 0), 1, cv2.LINE_AA)\n",
    "cv2.circle(s_img, (int(height/2), int(width/2)), 50, (0, 0, 0), 3)\n",
    "cv2.line(s_img, (0, int(width/2)), (height, int(width/2)), (0, 0, 0), 3)\n",
    "cv2.line(s_img, (int(height/2), 0), (int(height/2), width), (0, 0, 0), 3)\n",
    "cv2.rectangle(s_img, (0, 0), (height, width), (0, 0, 0), 3)\n",
    "cv2.imshow('Hello World!', s_img)\n",
    "cv2.waitKey()\n",
    "cv2.imwrite(\"Hello_World.jpg\", s_img)\n",
    "cv2.destroyAllWindows()\n",
    "\n"
   ]
  }
 ],
 "metadata": {
  "kernelspec": {
   "display_name": "Python 3",
   "language": "python",
   "name": "python3"
  },
  "language_info": {
   "codemirror_mode": {
    "name": "ipython",
    "version": 3
   },
   "file_extension": ".py",
   "mimetype": "text/x-python",
   "name": "python",
   "nbconvert_exporter": "python",
   "pygments_lexer": "ipython3",
   "version": "3.7.3"
  }
 },
 "nbformat": 4,
 "nbformat_minor": 2
}
