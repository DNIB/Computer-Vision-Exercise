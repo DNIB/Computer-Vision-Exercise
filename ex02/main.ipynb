{
 "cells": [
  {
   "cell_type": "code",
   "execution_count": 1,
   "metadata": {},
   "outputs": [
    {
     "name": "stdout",
     "output_type": "stream",
     "text": [
      "<class 'numpy.uint8'>\n"
     ]
    },
    {
     "data": {
      "text/plain": [
       "True"
      ]
     },
     "execution_count": 1,
     "metadata": {},
     "output_type": "execute_result"
    }
   ],
   "source": [
    "#access an image pixel\n",
    "\n",
    "import cv2\n",
    "import numpy\n",
    "import matplotlib.pyplot as plt\n",
    "\n",
    "def ran (pos1, pos2):\n",
    "    return ((abs(pos1[0]-pos2[0])**2) + (abs(pos1[1]-pos2[1])**2))**0.5\n",
    "\n",
    "img = cv2.imread('lena.png')\n",
    "print(type(img[0,0,0]))\n",
    "height, width, channel = img.shape\n",
    "\n",
    "corner = [height/2, width/2]\n",
    "\n",
    "b,g,r = cv2.split(img)  \n",
    "img = cv2.merge([r,g,b])\n",
    "\n",
    "plt.subplot(1, 2, 1)\n",
    "plt.title(\"Test\")\n",
    "plt.imshow(img)\n",
    "\n",
    "for y in range(0,height):\n",
    "    for x in range(0,width):\n",
    "        rang = ran([y, x], corner)\n",
    "        if rang!=0:\n",
    "            num = rang/100\n",
    "            if num <= 1:\n",
    "                num = 1\n",
    "            ##print(num)\n",
    "            img[y,x,:]=img[y,x,:]/num\n",
    "\n",
    "plt.subplot(1, 2, 2)\n",
    "plt.title(\"Result\")\n",
    "plt.imshow(img)\n",
    "\n",
    "b,g,r = cv2.split(img)  \n",
    "img = cv2.merge([r,g,b])\n",
    "\n",
    "cv2.imwrite(\"Circle.jpg\", img)"
   ]
  },
  {
   "cell_type": "code",
   "execution_count": null,
   "metadata": {},
   "outputs": [],
   "source": []
  }
 ],
 "metadata": {
  "kernelspec": {
   "display_name": "Python 3",
   "language": "python",
   "name": "python3"
  },
  "language_info": {
   "codemirror_mode": {
    "name": "ipython",
    "version": 3
   },
   "file_extension": ".py",
   "mimetype": "text/x-python",
   "name": "python",
   "nbconvert_exporter": "python",
   "pygments_lexer": "ipython3",
   "version": "3.7.3"
  }
 },
 "nbformat": 4,
 "nbformat_minor": 2
}
